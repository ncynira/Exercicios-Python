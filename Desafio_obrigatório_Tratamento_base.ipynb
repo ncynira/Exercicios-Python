{
 "cells": [
  {
   "cell_type": "markdown",
   "metadata": {},
   "source": [
    "Realizar o tratamento das bases coletadas via API do projeto final na aula 12.\n",
    "Aspectos a incluir\n",
    "\n",
    "Ajuste os nomes das colunas e linhas. \n",
    "Filtros de linhas e colunas, se necessário. \n",
    "unstack e/ou stack.\n",
    "Tratamento do tipo das variáveis.\n",
    "Ajuste de missing.\n",
    "Tratamento de colunas string. \n",
    "\n",
    "Observações\n",
    "\n",
    "Você pode criar novas tabelas, salvando as bases brutas e as bases tratadas.\n",
    "As bases finais precisam estar totalmente ajustadas (da melhor forma possível) e salvas no banco de dados.\n"
   ]
  },
  {
   "cell_type": "markdown",
   "metadata": {},
   "source": [
    "Bibliotecas necessárias: "
   ]
  },
  {
   "cell_type": "code",
   "execution_count": 43,
   "metadata": {},
   "outputs": [],
   "source": [
    "import pandas as pd\n",
    "import requests\n",
    "import pdb\n",
    "from plyer import notification\n",
    "from datetime import datetime\n",
    "from sqlalchemy import create_engine\n"
   ]
  },
  {
   "cell_type": "markdown",
   "metadata": {},
   "source": []
  },
  {
   "cell_type": "code",
   "execution_count": 44,
   "metadata": {},
   "outputs": [
    {
     "data": {
      "text/plain": [
       "<Response [200]>"
      ]
     },
     "execution_count": 44,
     "metadata": {},
     "output_type": "execute_result"
    }
   ],
   "source": [
    "url = \"https://brasilapi.com.br/api/banks/v1\"\n",
    "brasilapi = requests.get(url)\n",
    "brasilapi"
   ]
  },
  {
   "cell_type": "code",
   "execution_count": 45,
   "metadata": {},
   "outputs": [
    {
     "data": {
      "text/html": [
       "<div>\n",
       "<style scoped>\n",
       "    .dataframe tbody tr th:only-of-type {\n",
       "        vertical-align: middle;\n",
       "    }\n",
       "\n",
       "    .dataframe tbody tr th {\n",
       "        vertical-align: top;\n",
       "    }\n",
       "\n",
       "    .dataframe thead th {\n",
       "        text-align: right;\n",
       "    }\n",
       "</style>\n",
       "<table border=\"1\" class=\"dataframe\">\n",
       "  <thead>\n",
       "    <tr style=\"text-align: right;\">\n",
       "      <th></th>\n",
       "      <th>0</th>\n",
       "    </tr>\n",
       "  </thead>\n",
       "  <tbody>\n",
       "    <tr>\n",
       "      <th>0</th>\n",
       "      <td>b'[{\"ispb\":\"00000000\",\"name\":\"BCO DO BRASIL S....</td>\n",
       "    </tr>\n",
       "    <tr>\n",
       "      <th>1</th>\n",
       "      <td>b' DE BRASILIA S.A.\",\"code\":70,\"fullName\":\"BRB...</td>\n",
       "    </tr>\n",
       "    <tr>\n",
       "      <th>2</th>\n",
       "      <td>b':\"Banco Central do Brasil - Selic\"},{\"ispb\":...</td>\n",
       "    </tr>\n",
       "    <tr>\n",
       "      <th>3</th>\n",
       "      <td>b'\"00122327\",\"name\":\"SANTINVEST S.A. - CFI\",\"c...</td>\n",
       "    </tr>\n",
       "    <tr>\n",
       "      <th>4</th>\n",
       "      <td>b'pb\":\"00204963\",\"name\":\"CCR SEARA\",\"code\":430...</td>\n",
       "    </tr>\n",
       "    <tr>\n",
       "      <th>...</th>\n",
       "      <td>...</td>\n",
       "    </tr>\n",
       "    <tr>\n",
       "      <th>314</th>\n",
       "      <td>b'ame\":\"Banco do Estado do Rio Grande do Sul S...</td>\n",
       "    </tr>\n",
       "    <tr>\n",
       "      <th>315</th>\n",
       "      <td>b'ORRETORA DE C\\xc3\\x82MBIO LTDA\"},{\"ispb\":\"92...</td>\n",
       "    </tr>\n",
       "    <tr>\n",
       "      <th>316</th>\n",
       "      <td>b'2875780\",\"name\":\"WARREN CVMC LTDA\",\"code\":37...</td>\n",
       "    </tr>\n",
       "    <tr>\n",
       "      <th>317</th>\n",
       "      <td>b'894922\",\"name\":\"BANCO ORIGINAL\",\"code\":212,\"...</td>\n",
       "    </tr>\n",
       "    <tr>\n",
       "      <th>318</th>\n",
       "      <td>b',\"fullName\":\"EFX CORRETORA DE C\\xc3\\x82MBIO ...</td>\n",
       "    </tr>\n",
       "  </tbody>\n",
       "</table>\n",
       "<p>319 rows × 1 columns</p>\n",
       "</div>"
      ],
      "text/plain": [
       "                                                     0\n",
       "0    b'[{\"ispb\":\"00000000\",\"name\":\"BCO DO BRASIL S....\n",
       "1    b' DE BRASILIA S.A.\",\"code\":70,\"fullName\":\"BRB...\n",
       "2    b':\"Banco Central do Brasil - Selic\"},{\"ispb\":...\n",
       "3    b'\"00122327\",\"name\":\"SANTINVEST S.A. - CFI\",\"c...\n",
       "4    b'pb\":\"00204963\",\"name\":\"CCR SEARA\",\"code\":430...\n",
       "..                                                 ...\n",
       "314  b'ame\":\"Banco do Estado do Rio Grande do Sul S...\n",
       "315  b'ORRETORA DE C\\xc3\\x82MBIO LTDA\"},{\"ispb\":\"92...\n",
       "316  b'2875780\",\"name\":\"WARREN CVMC LTDA\",\"code\":37...\n",
       "317  b'894922\",\"name\":\"BANCO ORIGINAL\",\"code\":212,\"...\n",
       "318  b',\"fullName\":\"EFX CORRETORA DE C\\xc3\\x82MBIO ...\n",
       "\n",
       "[319 rows x 1 columns]"
      ]
     },
     "execution_count": 45,
     "metadata": {},
     "output_type": "execute_result"
    }
   ],
   "source": [
    "dados_bruto = pd.DataFrame(brasilapi)\n",
    "dados_bruto\n"
   ]
  },
  {
   "cell_type": "code",
   "execution_count": 46,
   "metadata": {},
   "outputs": [],
   "source": [
    "if brasilapi.status_code >= 200 and brasilapi.status_code <= 299:\n",
    "    dados = brasilapi.json()\n",
    "    df_formatado = pd.DataFrame(dados)\n",
    "\n",
    "    df_formatado.rename(columns={'fullName': 'Nome', 'code': 'Codigo', 'ispb': 'Inscrição'}, inplace=True)\n",
    "\n",
    "    df_formatado['Nome'] = df_formatado['Nome'].astype(str)\n",
    "    df_formatado['Codigo'] = df_formatado['Codigo'].astype(str)\n",
    "    df_formatado['Inscrição'] = df_formatado['Inscrição'].astype(str)\n",
    "\n",
    "    df_formatado.fillna('', inplace=True)\n",
    "\n",
    "    df_formatado['Nome'] = df_formatado['Nome'].str.strip()\n",
    "\n",
    "else:\n",
    "    print(\"Erro ao obter dados da API.\")"
   ]
  },
  {
   "cell_type": "code",
   "execution_count": 47,
   "metadata": {},
   "outputs": [
    {
     "data": {
      "text/html": [
       "<div>\n",
       "<style scoped>\n",
       "    .dataframe tbody tr th:only-of-type {\n",
       "        vertical-align: middle;\n",
       "    }\n",
       "\n",
       "    .dataframe tbody tr th {\n",
       "        vertical-align: top;\n",
       "    }\n",
       "\n",
       "    .dataframe thead th {\n",
       "        text-align: right;\n",
       "    }\n",
       "</style>\n",
       "<table border=\"1\" class=\"dataframe\">\n",
       "  <thead>\n",
       "    <tr style=\"text-align: right;\">\n",
       "      <th></th>\n",
       "      <th>Inscrição</th>\n",
       "      <th>name</th>\n",
       "      <th>Codigo</th>\n",
       "      <th>Nome</th>\n",
       "    </tr>\n",
       "  </thead>\n",
       "  <tbody>\n",
       "    <tr>\n",
       "      <th>0</th>\n",
       "      <td>00000000</td>\n",
       "      <td>BCO DO BRASIL S.A.</td>\n",
       "      <td>1.0</td>\n",
       "      <td>Banco do Brasil S.A.</td>\n",
       "    </tr>\n",
       "    <tr>\n",
       "      <th>1</th>\n",
       "      <td>00000208</td>\n",
       "      <td>BRB - BCO DE BRASILIA S.A.</td>\n",
       "      <td>70.0</td>\n",
       "      <td>BRB - BANCO DE BRASILIA S.A.</td>\n",
       "    </tr>\n",
       "    <tr>\n",
       "      <th>2</th>\n",
       "      <td>00038121</td>\n",
       "      <td>Selic</td>\n",
       "      <td>nan</td>\n",
       "      <td>Banco Central do Brasil - Selic</td>\n",
       "    </tr>\n",
       "    <tr>\n",
       "      <th>3</th>\n",
       "      <td>00038166</td>\n",
       "      <td>Bacen</td>\n",
       "      <td>nan</td>\n",
       "      <td>Banco Central do Brasil</td>\n",
       "    </tr>\n",
       "    <tr>\n",
       "      <th>4</th>\n",
       "      <td>00122327</td>\n",
       "      <td>SANTINVEST S.A. - CFI</td>\n",
       "      <td>539.0</td>\n",
       "      <td>SANTINVEST S.A. - CREDITO, FINANCIAMENTO E INV...</td>\n",
       "    </tr>\n",
       "  </tbody>\n",
       "</table>\n",
       "</div>"
      ],
      "text/plain": [
       "  Inscrição                        name Codigo  \\\n",
       "0  00000000          BCO DO BRASIL S.A.    1.0   \n",
       "1  00000208  BRB - BCO DE BRASILIA S.A.   70.0   \n",
       "2  00038121                       Selic    nan   \n",
       "3  00038166                       Bacen    nan   \n",
       "4  00122327       SANTINVEST S.A. - CFI  539.0   \n",
       "\n",
       "                                                Nome  \n",
       "0                               Banco do Brasil S.A.  \n",
       "1                       BRB - BANCO DE BRASILIA S.A.  \n",
       "2                    Banco Central do Brasil - Selic  \n",
       "3                            Banco Central do Brasil  \n",
       "4  SANTINVEST S.A. - CREDITO, FINANCIAMENTO E INV...  "
      ]
     },
     "execution_count": 47,
     "metadata": {},
     "output_type": "execute_result"
    }
   ],
   "source": [
    "df_formatado.head()\n"
   ]
  },
  {
   "cell_type": "markdown",
   "metadata": {},
   "source": [
    "BASE 2: "
   ]
  },
  {
   "cell_type": "code",
   "execution_count": 48,
   "metadata": {},
   "outputs": [
    {
     "data": {
      "text/plain": [
       "<Response [200]>"
      ]
     },
     "execution_count": 48,
     "metadata": {},
     "output_type": "execute_result"
    }
   ],
   "source": [
    "url = \"https://pokeapi.co/api/v2/pokemon\"\n",
    "Pokemon = requests.get(url)\n",
    "Pokemon"
   ]
  },
  {
   "cell_type": "code",
   "execution_count": 49,
   "metadata": {},
   "outputs": [
    {
     "data": {
      "text/html": [
       "<div>\n",
       "<style scoped>\n",
       "    .dataframe tbody tr th:only-of-type {\n",
       "        vertical-align: middle;\n",
       "    }\n",
       "\n",
       "    .dataframe tbody tr th {\n",
       "        vertical-align: top;\n",
       "    }\n",
       "\n",
       "    .dataframe thead th {\n",
       "        text-align: right;\n",
       "    }\n",
       "</style>\n",
       "<table border=\"1\" class=\"dataframe\">\n",
       "  <thead>\n",
       "    <tr style=\"text-align: right;\">\n",
       "      <th></th>\n",
       "      <th>0</th>\n",
       "    </tr>\n",
       "  </thead>\n",
       "  <tbody>\n",
       "    <tr>\n",
       "      <th>0</th>\n",
       "      <td>b'{\"count\":1302,\"next\":\"https://pokeapi.co/api...</td>\n",
       "    </tr>\n",
       "    <tr>\n",
       "      <th>1</th>\n",
       "      <td>b':\"https://pokeapi.co/api/v2/pokemon/1/\"},{\"n...</td>\n",
       "    </tr>\n",
       "    <tr>\n",
       "      <th>2</th>\n",
       "      <td>b'\":\"https://pokeapi.co/api/v2/pokemon/3/\"},{\"...</td>\n",
       "    </tr>\n",
       "    <tr>\n",
       "      <th>3</th>\n",
       "      <td>b'\",\"url\":\"https://pokeapi.co/api/v2/pokemon/5...</td>\n",
       "    </tr>\n",
       "    <tr>\n",
       "      <th>4</th>\n",
       "      <td>b'tle\",\"url\":\"https://pokeapi.co/api/v2/pokemo...</td>\n",
       "    </tr>\n",
       "    <tr>\n",
       "      <th>5</th>\n",
       "      <td>b'astoise\",\"url\":\"https://pokeapi.co/api/v2/po...</td>\n",
       "    </tr>\n",
       "    <tr>\n",
       "      <th>6</th>\n",
       "      <td>b':\"metapod\",\"url\":\"https://pokeapi.co/api/v2/...</td>\n",
       "    </tr>\n",
       "    <tr>\n",
       "      <th>7</th>\n",
       "      <td>b'name\":\"weedle\",\"url\":\"https://pokeapi.co/api...</td>\n",
       "    </tr>\n",
       "    <tr>\n",
       "      <th>8</th>\n",
       "      <td>b'name\":\"beedrill\",\"url\":\"https://pokeapi.co/a...</td>\n",
       "    </tr>\n",
       "    <tr>\n",
       "      <th>9</th>\n",
       "      <td>b'{\"name\":\"pidgeotto\",\"url\":\"https://pokeapi.c...</td>\n",
       "    </tr>\n",
       "    <tr>\n",
       "      <th>10</th>\n",
       "      <td>b'/\"},{\"name\":\"rattata\",\"url\":\"https://pokeapi...</td>\n",
       "    </tr>\n",
       "    <tr>\n",
       "      <th>11</th>\n",
       "      <td>b'/20/\"}]}'</td>\n",
       "    </tr>\n",
       "  </tbody>\n",
       "</table>\n",
       "</div>"
      ],
      "text/plain": [
       "                                                    0\n",
       "0   b'{\"count\":1302,\"next\":\"https://pokeapi.co/api...\n",
       "1   b':\"https://pokeapi.co/api/v2/pokemon/1/\"},{\"n...\n",
       "2   b'\":\"https://pokeapi.co/api/v2/pokemon/3/\"},{\"...\n",
       "3   b'\",\"url\":\"https://pokeapi.co/api/v2/pokemon/5...\n",
       "4   b'tle\",\"url\":\"https://pokeapi.co/api/v2/pokemo...\n",
       "5   b'astoise\",\"url\":\"https://pokeapi.co/api/v2/po...\n",
       "6   b':\"metapod\",\"url\":\"https://pokeapi.co/api/v2/...\n",
       "7   b'name\":\"weedle\",\"url\":\"https://pokeapi.co/api...\n",
       "8   b'name\":\"beedrill\",\"url\":\"https://pokeapi.co/a...\n",
       "9   b'{\"name\":\"pidgeotto\",\"url\":\"https://pokeapi.c...\n",
       "10  b'/\"},{\"name\":\"rattata\",\"url\":\"https://pokeapi...\n",
       "11                                        b'/20/\"}]}'"
      ]
     },
     "execution_count": 49,
     "metadata": {},
     "output_type": "execute_result"
    }
   ],
   "source": [
    "dados_brutos = pd.DataFrame(Pokemon)\n",
    "dados_brutos"
   ]
  },
  {
   "cell_type": "code",
   "execution_count": 56,
   "metadata": {},
   "outputs": [],
   "source": [
    "\n",
    "if Pokemon.status_code >= 200 and Pokemon.status_code <= 299:\n",
    "    pokemon_data = Pokemon.json()\n",
    "\n",
    "    formatado = pd.json_normalize(pokemon_data['results'])\n",
    "\n",
    "    formatado.rename(columns={'name': 'nome', 'url': 'link'}, inplace=True)\n",
    "\n",
    "    formatado['nome'] = formatado['nome'].astype(str)\n",
    "    formatado['link'] = formatado['link'].astype(str)\n",
    "\n",
    "    formatado.fillna('', inplace=True)\n",
    "\n",
    "    formatado['nome'] = formatado['nome'].str.strip()\n",
    "\n",
    "else:\n",
    "    print(\"Erro ao obter dados da API.\")\n"
   ]
  },
  {
   "cell_type": "code",
   "execution_count": 57,
   "metadata": {},
   "outputs": [
    {
     "data": {
      "text/html": [
       "<div>\n",
       "<style scoped>\n",
       "    .dataframe tbody tr th:only-of-type {\n",
       "        vertical-align: middle;\n",
       "    }\n",
       "\n",
       "    .dataframe tbody tr th {\n",
       "        vertical-align: top;\n",
       "    }\n",
       "\n",
       "    .dataframe thead th {\n",
       "        text-align: right;\n",
       "    }\n",
       "</style>\n",
       "<table border=\"1\" class=\"dataframe\">\n",
       "  <thead>\n",
       "    <tr style=\"text-align: right;\">\n",
       "      <th></th>\n",
       "      <th>nome</th>\n",
       "      <th>link</th>\n",
       "    </tr>\n",
       "  </thead>\n",
       "  <tbody>\n",
       "    <tr>\n",
       "      <th>0</th>\n",
       "      <td>bulbasaur</td>\n",
       "      <td>https://pokeapi.co/api/v2/pokemon/1/</td>\n",
       "    </tr>\n",
       "    <tr>\n",
       "      <th>1</th>\n",
       "      <td>ivysaur</td>\n",
       "      <td>https://pokeapi.co/api/v2/pokemon/2/</td>\n",
       "    </tr>\n",
       "    <tr>\n",
       "      <th>2</th>\n",
       "      <td>venusaur</td>\n",
       "      <td>https://pokeapi.co/api/v2/pokemon/3/</td>\n",
       "    </tr>\n",
       "    <tr>\n",
       "      <th>3</th>\n",
       "      <td>charmander</td>\n",
       "      <td>https://pokeapi.co/api/v2/pokemon/4/</td>\n",
       "    </tr>\n",
       "    <tr>\n",
       "      <th>4</th>\n",
       "      <td>charmeleon</td>\n",
       "      <td>https://pokeapi.co/api/v2/pokemon/5/</td>\n",
       "    </tr>\n",
       "  </tbody>\n",
       "</table>\n",
       "</div>"
      ],
      "text/plain": [
       "         nome                                  link\n",
       "0   bulbasaur  https://pokeapi.co/api/v2/pokemon/1/\n",
       "1     ivysaur  https://pokeapi.co/api/v2/pokemon/2/\n",
       "2    venusaur  https://pokeapi.co/api/v2/pokemon/3/\n",
       "3  charmander  https://pokeapi.co/api/v2/pokemon/4/\n",
       "4  charmeleon  https://pokeapi.co/api/v2/pokemon/5/"
      ]
     },
     "execution_count": 57,
     "metadata": {},
     "output_type": "execute_result"
    }
   ],
   "source": [
    "formatado.head()"
   ]
  }
 ],
 "metadata": {
  "kernelspec": {
   "display_name": "Python 3",
   "language": "python",
   "name": "python3"
  },
  "language_info": {
   "codemirror_mode": {
    "name": "ipython",
    "version": 3
   },
   "file_extension": ".py",
   "mimetype": "text/x-python",
   "name": "python",
   "nbconvert_exporter": "python",
   "pygments_lexer": "ipython3",
   "version": "3.12.0"
  }
 },
 "nbformat": 4,
 "nbformat_minor": 2
}
